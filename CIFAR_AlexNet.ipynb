{
  "nbformat": 4,
  "nbformat_minor": 0,
  "metadata": {
    "colab": {
      "name": "CIFAR AlexNet.ipynb",
      "version": "0.3.2",
      "provenance": [],
      "collapsed_sections": [],
      "include_colab_link": true
    },
    "language_info": {
      "codemirror_mode": {
        "name": "ipython",
        "version": 3
      },
      "file_extension": ".py",
      "mimetype": "text/x-python",
      "name": "python",
      "nbconvert_exporter": "python",
      "pygments_lexer": "ipython3",
      "version": "3.6.6"
    },
    "kernelspec": {
      "name": "python3",
      "display_name": "Python 3"
    },
    "accelerator": "GPU"
  },
  "cells": [
    {
      "cell_type": "markdown",
      "metadata": {
        "id": "view-in-github",
        "colab_type": "text"
      },
      "source": [
        "<a href=\"https://colab.research.google.com/github/daudiii/CIFAR-AlexNet/blob/master/CIFAR_AlexNet.ipynb\" target=\"_parent\"><img src=\"https://colab.research.google.com/assets/colab-badge.svg\" alt=\"Open In Colab\"/></a>"
      ]
    },
    {
      "cell_type": "code",
      "metadata": {
        "id": "VeXLLbFcq8CA",
        "colab_type": "code",
        "colab": {}
      },
      "source": [
        "%matplotlib inline"
      ],
      "execution_count": 0,
      "outputs": []
    },
    {
      "cell_type": "code",
      "metadata": {
        "id": "BbYdrb_wq8CM",
        "colab_type": "code",
        "outputId": "5160846d-dc5c-4b33-ba1a-d4fe51274982",
        "colab": {
          "base_uri": "https://localhost:8080/",
          "height": 34
        }
      },
      "source": [
        "import torch\n",
        "import torchvision\n",
        "import torchvision.transforms as transforms\n",
        "print(torch.cuda.is_available())"
      ],
      "execution_count": 2,
      "outputs": [
        {
          "output_type": "stream",
          "text": [
            "True\n"
          ],
          "name": "stdout"
        }
      ]
    },
    {
      "cell_type": "code",
      "metadata": {
        "id": "rDiniPD1q8CS",
        "colab_type": "code",
        "outputId": "d3fe67a3-dec0-4fac-a8d9-c9a3a2991d45",
        "colab": {
          "base_uri": "https://localhost:8080/",
          "height": 50
        }
      },
      "source": [
        "transform = transforms.Compose(\n",
        "    [transforms.ToTensor(),\n",
        "     transforms.Normalize((0.5, 0.5, 0.5), (0.5, 0.5, 0.5))])\n",
        "\n",
        "trainset = torchvision.datasets.CIFAR10(root='./data', train=True,\n",
        "                                        download=True, transform=transform)\n",
        "trainloader = torch.utils.data.DataLoader(trainset, batch_size=128,\n",
        "                                          shuffle=True, num_workers=2)\n",
        "\n",
        "testset = torchvision.datasets.CIFAR10(root='./data', train=False,\n",
        "                                       download=True, transform=transform)\n",
        "testloader = torch.utils.data.DataLoader(testset, batch_size=256,\n",
        "                                         shuffle=False, num_workers=2)\n",
        "\n",
        "classes = ('plane', 'car', 'bird', 'cat', 'deer', 'dog', 'frog', 'horse', 'ship', 'truck')"
      ],
      "execution_count": 3,
      "outputs": [
        {
          "output_type": "stream",
          "text": [
            "\r0it [00:00, ?it/s]"
          ],
          "name": "stderr"
        },
        {
          "output_type": "stream",
          "text": [
            "Downloading https://www.cs.toronto.edu/~kriz/cifar-10-python.tar.gz to ./data/cifar-10-python.tar.gz\n"
          ],
          "name": "stdout"
        },
        {
          "output_type": "stream",
          "text": [
            " 99%|█████████▉| 168730624/170498071 [00:11<00:00, 15492794.99it/s]"
          ],
          "name": "stderr"
        },
        {
          "output_type": "stream",
          "text": [
            "Files already downloaded and verified\n"
          ],
          "name": "stdout"
        }
      ]
    },
    {
      "cell_type": "code",
      "metadata": {
        "id": "4V52GZUiq8CZ",
        "colab_type": "code",
        "outputId": "d59d622e-33c0-4724-bd6a-dfe0184ab2c3",
        "colab": {
          "base_uri": "https://localhost:8080/",
          "height": 190
        }
      },
      "source": [
        "import matplotlib.pyplot as plt\n",
        "import numpy as np\n",
        "\n",
        "# functions to show an image\n",
        "\n",
        "\n",
        "def imshow(img):\n",
        "    print(img.shape)\n",
        "    npimg = img.numpy()\n",
        "    plt.imshow(np.transpose(npimg, (1, 2, 0)), cmap=\"gray\")\n",
        "    plt.show()\n",
        "\n",
        "\n",
        "# get some random training images\n",
        "dataiter = iter(trainloader)\n",
        "images, labels = dataiter.next()\n",
        "\n",
        "# show images\n",
        "imshow(torchvision.utils.make_grid(images[:4]))\n",
        "# print labels\n",
        "print(' '.join('%5s' % classes[labels[j]] for j in range(4)))"
      ],
      "execution_count": 4,
      "outputs": [
        {
          "output_type": "stream",
          "text": [
            "Clipping input data to the valid range for imshow with RGB data ([0..1] for floats or [0..255] for integers).\n"
          ],
          "name": "stderr"
        },
        {
          "output_type": "stream",
          "text": [
            "torch.Size([3, 36, 138])\n"
          ],
          "name": "stdout"
        },
        {
          "output_type": "display_data",
          "data": {
            "image/png": "[encoded data removed]",
            "text/plain": [
              "<Figure size 432x288 with 1 Axes>"
            ]
          },
          "metadata": {
            "tags": []
          }
        },
        {
          "output_type": "stream",
          "text": [
            "  car   cat plane horse\n"
          ],
          "name": "stdout"
        }
      ]
    },
    {
      "cell_type": "code",
      "metadata": {
        "id": "RL2H46Evq8Cf",
        "colab_type": "code",
        "outputId": "84532f1d-2d50-4cae-e225-12db2ddfff51",
        "colab": {
          "base_uri": "https://localhost:8080/",
          "height": 286
        }
      },
      "source": [
        "import torch.nn as nn\n",
        "import torch.nn.functional as F\n",
        "\n",
        "\n",
        "class AlexNet(nn.Module):\n",
        "    def __init__(self):\n",
        "        super(AlexNet, self).__init__()\n",
        "        self.conv1 = nn.Conv2d(3, 7, 4, padding=2)\n",
        "        self.relu = nn.ReLU()\n",
        "        self.pool = nn.MaxPool2d(3, stride=1)\n",
        "        self.conv2 = nn.Conv2d(7, 11, 3)\n",
        "        self.conv3 = nn.Conv2d(11, 15, 3)\n",
        "        self.conv4 = nn.Conv2d(15, 15, 3)\n",
        "        self.conv5 = nn.Conv2d(15, 11, 3)\n",
        "        self.fc1 = nn.Linear(11 * 19*19, 150)\n",
        "        self.fc2 = nn.Linear(150, 150)\n",
        "        self.fc3 = nn.Linear(150, 10)\n",
        "        self.dropout = nn.Dropout(p=0.3)\n",
        "        self.norm = nn.LocalResponseNorm(3, alpha=0.0001, beta=0.75, k=2.0)\n",
        "        self.smax = nn.Softmax()\n",
        "\n",
        "    def forward(self, x):\n",
        "        x = self.pool(self.relu(self.norm(self.conv1(x))))\n",
        "        x = self.pool(self.relu(self.norm(self.conv2(x))))\n",
        "        x = self.relu(self.conv3(x))\n",
        "        x = self.relu(self.conv4(x))\n",
        "        x = self.pool(self.relu(self.conv5(x)))\n",
        "        x = x.view(-1, 11*19*19)\n",
        "        x = self.dropout(self.relu(self.fc1(x)))\n",
        "        x = self.dropout(self.relu(self.fc2(x)))\n",
        "        x = self.fc3(x)\n",
        "        x = self.smax(x)\n",
        "        return x\n",
        "\n",
        "\n",
        "model = AlexNet()\n",
        "device = torch.device(\"cuda:0\" if torch.cuda.is_available() else \"cpu\")\n",
        "\n",
        "# Assuming that we are on a CUDA machine, this should print a CUDA device:\n",
        "\n",
        "print(device)\n",
        "model.to(device)"
      ],
      "execution_count": 5,
      "outputs": [
        {
          "output_type": "stream",
          "text": [
            "cuda:0\n"
          ],
          "name": "stdout"
        },
        {
          "output_type": "execute_result",
          "data": {
            "text/plain": [
              "AlexNet(\n",
              "  (conv1): Conv2d(3, 7, kernel_size=(4, 4), stride=(1, 1), padding=(2, 2))\n",
              "  (relu): ReLU()\n",
              "  (pool): MaxPool2d(kernel_size=3, stride=1, padding=0, dilation=1, ceil_mode=False)\n",
              "  (conv2): Conv2d(7, 11, kernel_size=(3, 3), stride=(1, 1))\n",
              "  (conv3): Conv2d(11, 15, kernel_size=(3, 3), stride=(1, 1))\n",
              "  (conv4): Conv2d(15, 15, kernel_size=(3, 3), stride=(1, 1))\n",
              "  (conv5): Conv2d(15, 11, kernel_size=(3, 3), stride=(1, 1))\n",
              "  (fc1): Linear(in_features=3971, out_features=150, bias=True)\n",
              "  (fc2): Linear(in_features=150, out_features=150, bias=True)\n",
              "  (fc3): Linear(in_features=150, out_features=10, bias=True)\n",
              "  (dropout): Dropout(p=0.3)\n",
              "  (norm): LocalResponseNorm(3, alpha=0.0001, beta=0.75, k=2.0)\n",
              "  (smax): Softmax()\n",
              ")"
            ]
          },
          "metadata": {
            "tags": []
          },
          "execution_count": 5
        }
      ]
    },
    {
      "cell_type": "code",
      "metadata": {
        "id": "MLvPLb0sq8Cm",
        "colab_type": "code",
        "outputId": "9f507dd3-4c8c-4863-9330-a20ccd0b644f",
        "colab": {
          "base_uri": "https://localhost:8080/",
          "height": 84
        }
      },
      "source": [
        "import torch.optim as optim\n",
        "criterion = nn.CrossEntropyLoss()\n",
        "optimizer = torch.optim.Adam(model.parameters(),lr=0.01, weight_decay=0.0005)\n",
        "print(trainset)"
      ],
      "execution_count": 8,
      "outputs": [
        {
          "output_type": "stream",
          "text": [
            "Dataset CIFAR10\n",
            "    Number of datapoints: 50000\n",
            "    Root location: ./data\n",
            "    Split: Train\n"
          ],
          "name": "stdout"
        }
      ]
    },
    {
      "cell_type": "code",
      "metadata": {
        "id": "wVa_8kRaq8Ct",
        "colab_type": "code",
        "outputId": "97e0048d-531c-4876-970f-80127c5d5be4",
        "colab": {
          "base_uri": "https://localhost:8080/",
          "height": 742
        }
      },
      "source": [
        "for epoch in range(10):\n",
        "  running_loss = 0.0\n",
        "  i=0;\n",
        "  for data in trainloader:\n",
        "    x,y=data[0].to(device), data[1].to(device)\n",
        "    output=model(x)\n",
        "    loss=criterion(output,y)\n",
        "    optimizer.zero_grad()\n",
        "    loss.backward()\n",
        "    optimizer.step()\n",
        "    \n",
        "    running_loss += loss.item()\n",
        "    if i % 90 == 89:    # print every 90 mini-batches (390 total minis)\n",
        "      print('[%d, %5d] loss: %.3f' %\n",
        "      (epoch + 1, i + 1, running_loss/90))\n",
        "      running_loss = 0.0\n",
        "            \n",
        "    i=i+1\n",
        "print('Finished Training')\n",
        "\n"
      ],
      "execution_count": 9,
      "outputs": [
        {
          "output_type": "stream",
          "text": [
            "/usr/local/lib/python3.6/dist-packages/ipykernel_launcher.py:32: UserWarning: Implicit dimension choice for softmax has been deprecated. Change the call to include dim=X as an argument.\n"
          ],
          "name": "stderr"
        },
        {
          "output_type": "stream",
          "text": [
            "[1,    90] loss: 2.303\n",
            "[1,   180] loss: 2.303\n",
            "[1,   270] loss: 2.303\n",
            "[1,   360] loss: 2.303\n",
            "[2,    90] loss: 2.303\n",
            "[2,   180] loss: 2.303\n",
            "[2,   270] loss: 2.303\n",
            "[2,   360] loss: 2.303\n",
            "[3,    90] loss: 2.303\n",
            "[3,   180] loss: 2.303\n",
            "[3,   270] loss: 2.303\n",
            "[3,   360] loss: 2.303\n",
            "[4,    90] loss: 2.303\n",
            "[4,   180] loss: 2.303\n",
            "[4,   270] loss: 2.304\n",
            "[4,   360] loss: 2.303\n",
            "[5,    90] loss: 2.303\n",
            "[5,   180] loss: 2.303\n",
            "[5,   270] loss: 2.303\n",
            "[5,   360] loss: 2.303\n",
            "[6,    90] loss: 2.303\n",
            "[6,   180] loss: 2.303\n",
            "[6,   270] loss: 2.303\n",
            "[6,   360] loss: 2.303\n",
            "[7,    90] loss: 2.303\n",
            "[7,   180] loss: 2.303\n",
            "[7,   270] loss: 2.303\n",
            "[7,   360] loss: 2.303\n",
            "[8,    90] loss: 2.303\n",
            "[8,   180] loss: 2.303\n",
            "[8,   270] loss: 2.303\n",
            "[8,   360] loss: 2.303\n",
            "[9,    90] loss: 2.303\n",
            "[9,   180] loss: 2.303\n",
            "[9,   270] loss: 2.303\n",
            "[9,   360] loss: 2.303\n",
            "[10,    90] loss: 2.303\n",
            "[10,   180] loss: 2.303\n",
            "[10,   270] loss: 2.303\n",
            "[10,   360] loss: 2.303\n",
            "Finished Training\n"
          ],
          "name": "stdout"
        }
      ]
    },
    {
      "cell_type": "markdown",
      "metadata": {
        "id": "Mkt6Wa0wq8C4",
        "colab_type": "text"
      },
      "source": [
        "**Testing...**\n",
        "\n"
      ]
    },
    {
      "cell_type": "code",
      "metadata": {
        "id": "XeqxI83Mq8C6",
        "colab_type": "code",
        "outputId": "4a315bed-27a8-47f7-f57f-6b544bd6acdc",
        "colab": {
          "base_uri": "https://localhost:8080/",
          "height": 319
        }
      },
      "source": [
        "dataiter = iter(testloader)\n",
        "data = dataiter.next()\n",
        "images, labels = data[0].to(device), data[1].to(device)\n",
        "\n",
        "# print images\n",
        "imshow(torchvision.utils.make_grid(images.cpu()))\n",
        "print('GroundTruth: ', ' '.join('%5s' % classes[labels[j]] for j in range(4)))"
      ],
      "execution_count": 10,
      "outputs": [
        {
          "output_type": "stream",
          "text": [
            "Clipping input data to the valid range for imshow with RGB data ([0..1] for floats or [0..255] for integers).\n"
          ],
          "name": "stderr"
        },
        {
          "output_type": "stream",
          "text": [
            "torch.Size([3, 1090, 274])\n"
          ],
          "name": "stdout"
        },
        {
          "output_type": "display_data",
          "data": {
            "image/png": "[encoded data removed]",
            "text/plain": [
              "<Figure size 432x288 with 1 Axes>"
            ]
          },
          "metadata": {
            "tags": []
          }
        },
        {
          "output_type": "stream",
          "text": [
            "GroundTruth:    cat  ship  ship plane\n"
          ],
          "name": "stdout"
        }
      ]
    },
    {
      "cell_type": "code",
      "metadata": {
        "id": "Zj9kVGI8q8DE",
        "colab_type": "code",
        "outputId": "d51dc6ad-316d-4c6c-c138-5e74ba7375f6",
        "colab": {
          "base_uri": "https://localhost:8080/",
          "height": 205
        }
      },
      "source": [
        "print(images.shape)\n",
        "outputs = model(images)\n",
        "print(outputs)"
      ],
      "execution_count": 11,
      "outputs": [
        {
          "output_type": "stream",
          "text": [
            "torch.Size([256, 3, 32, 32])\n",
            "tensor([[0.1021, 0.0940, 0.0962,  ..., 0.0979, 0.1075, 0.0963],\n",
            "        [0.1011, 0.0984, 0.0956,  ..., 0.0980, 0.1045, 0.1001],\n",
            "        [0.1023, 0.0949, 0.0941,  ..., 0.1006, 0.1071, 0.0983],\n",
            "        ...,\n",
            "        [0.1007, 0.1004, 0.0967,  ..., 0.0978, 0.1032, 0.0995],\n",
            "        [0.1003, 0.1011, 0.0964,  ..., 0.0987, 0.1024, 0.1002],\n",
            "        [0.1004, 0.1006, 0.0962,  ..., 0.0976, 0.1030, 0.1000]],\n",
            "       device='cuda:0', grad_fn=<SoftmaxBackward>)\n"
          ],
          "name": "stdout"
        },
        {
          "output_type": "stream",
          "text": [
            "/usr/local/lib/python3.6/dist-packages/ipykernel_launcher.py:32: UserWarning: Implicit dimension choice for softmax has been deprecated. Change the call to include dim=X as an argument.\n"
          ],
          "name": "stderr"
        }
      ]
    },
    {
      "cell_type": "code",
      "metadata": {
        "id": "afXXCA6Cq8DL",
        "colab_type": "code",
        "outputId": "c820e2bb-5f25-4d7f-ab4d-c69ce5bb24e7",
        "colab": {
          "base_uri": "https://localhost:8080/",
          "height": 34
        }
      },
      "source": [
        "_, predicted = torch.max(outputs, 1)\n",
        "\n",
        "print('Predicted: ', ' '.join('%5s' % classes[predicted[j]]\n",
        "                              for j in range(4)))"
      ],
      "execution_count": 12,
      "outputs": [
        {
          "output_type": "stream",
          "text": [
            "Predicted:   frog  frog  frog  frog\n"
          ],
          "name": "stdout"
        }
      ]
    },
    {
      "cell_type": "code",
      "metadata": {
        "id": "LnU94796q8DS",
        "colab_type": "code",
        "outputId": "84b9842c-9db4-4bfd-a351-149cb74f0543",
        "colab": {
          "base_uri": "https://localhost:8080/",
          "height": 70
        }
      },
      "source": [
        "correct = 0\n",
        "total = 0\n",
        "with torch.no_grad():\n",
        "    for data in testloader:\n",
        "        images, labels = data[0].to(device), data[1].to(device)\n",
        "        outputs = model(images)\n",
        "        _, predicted = torch.max(outputs.data, 1)\n",
        "        total += labels.size(0)\n",
        "        correct += (predicted == labels).sum().item()\n",
        "\n",
        "print('Accuracy of the network on the 10000 test images: %d %%' % (\n",
        "    100 * correct / total))"
      ],
      "execution_count": 13,
      "outputs": [
        {
          "output_type": "stream",
          "text": [
            "/usr/local/lib/python3.6/dist-packages/ipykernel_launcher.py:32: UserWarning: Implicit dimension choice for softmax has been deprecated. Change the call to include dim=X as an argument.\n"
          ],
          "name": "stderr"
        },
        {
          "output_type": "stream",
          "text": [
            "Accuracy of the network on the 10000 test images: 10 %\n"
          ],
          "name": "stdout"
        }
      ]
    },
    {
      "cell_type": "code",
      "metadata": {
        "id": "4ZoGRHZ0q8DY",
        "colab_type": "code",
        "outputId": "d437b78b-5a4b-4de5-cec5-fa4631bff260",
        "colab": {
          "base_uri": "https://localhost:8080/",
          "height": 222
        }
      },
      "source": [
        "class_correct = list(0. for i in range(10))\n",
        "class_total = list(0. for i in range(10))\n",
        "with torch.no_grad():\n",
        "    for data in testloader:\n",
        "        images, labels = data[0].to(device), data[1].to(device)\n",
        "        outputs = model(images)\n",
        "        _, predicted = torch.max(outputs, 1)\n",
        "        c = (predicted == labels).squeeze()\n",
        "        for i in range(10):\n",
        "            label = labels[i]\n",
        "            class_correct[label] += c[i].item()\n",
        "            class_total[label] += 1\n",
        "\n",
        "\n",
        "for i in range(10):\n",
        "    print('Accuracy of %5s : %2d %%' % (\n",
        "        classes[i], 100 * class_correct[i] / class_total[i]))"
      ],
      "execution_count": 14,
      "outputs": [
        {
          "output_type": "stream",
          "text": [
            "/usr/local/lib/python3.6/dist-packages/ipykernel_launcher.py:32: UserWarning: Implicit dimension choice for softmax has been deprecated. Change the call to include dim=X as an argument.\n"
          ],
          "name": "stderr"
        },
        {
          "output_type": "stream",
          "text": [
            "Accuracy of plane :  0 %\n",
            "Accuracy of   car :  0 %\n",
            "Accuracy of  bird :  0 %\n",
            "Accuracy of   cat :  0 %\n",
            "Accuracy of  deer :  0 %\n",
            "Accuracy of   dog : 42 %\n",
            "Accuracy of  frog : 71 %\n",
            "Accuracy of horse :  0 %\n",
            "Accuracy of  ship :  0 %\n",
            "Accuracy of truck :  0 %\n"
          ],
          "name": "stdout"
        }
      ]
    },
    {
      "cell_type": "code",
      "metadata": {
        "id": "JMuZDFcTmIhP",
        "colab_type": "code",
        "outputId": "924f1559-1d39-4c5e-9478-78120f9be535",
        "colab": {
          "base_uri": "https://localhost:8080/",
          "height": 84
        }
      },
      "source": [
        ""
      ],
      "execution_count": 0,
      "outputs": [
        {
          "output_type": "stream",
          "text": [
            "Dataset CIFAR10\n",
            "    Number of datapoints: 50000\n",
            "    Root location: ./data\n",
            "    Split: Train\n"
          ],
          "name": "stdout"
        }
      ]
    },
    {
      "cell_type": "code",
      "metadata": {
        "id": "YVFwts85wN5v",
        "colab_type": "code",
        "colab": {}
      },
      "source": [
        ""
      ],
      "execution_count": 0,
      "outputs": []
    }
  ]
}